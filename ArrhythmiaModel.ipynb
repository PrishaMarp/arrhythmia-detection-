{
 "cells": [
  {
   "cell_type": "code",
   "execution_count": 100,
   "metadata": {},
   "outputs": [],
   "source": [
    "import torch \n",
    "from torch.utils.data import Dataset\n",
    "from torchvision import datasets\n",
    "from torchvision.transforms import ToTensor\n",
    "import matplotlib.pyplot as plt\n",
    "\n",
    "\n",
    "training_data = datasets.FashionMNIST(\n",
    "    root=\"data\",\n",
    "    train=True,\n",
    "    download=True,\n",
    "    transform=ToTensor()\n",
    ")\n",
    "\n",
    "test_data = datasets.FashionMNIST(\n",
    "    root=\"data\",\n",
    "    train=False,\n",
    "    download=True,\n",
    "    transform=ToTensor()\n",
    ")"
   ]
  },
  {
   "cell_type": "code",
   "execution_count": 158,
   "metadata": {},
   "outputs": [],
   "source": [
    "import pandas as pd\n",
    "patient = '100'\n",
    "conditions = ['N','L','R','V','/','A','f','F']\n",
    "\n",
    "def store_function(patient):\n",
    "    \n",
    "    annotations_file = \"mit_data/\"+patient+\"annotations.txt\"\n",
    "    with open(annotations_file, 'r') as file:\n",
    "        lines = file.readlines()\n",
    "    csv_file = \"mit_data/\"+str(patient)+\".csv\"\n",
    "    datafile = pd.read_csv(csv_file)\n",
    "\n",
    "    time_list = []\n",
    "    sample_list = []\n",
    "    type_list = []\n",
    "    feature_list = []\n",
    "    for line in lines[12:-11]:\n",
    "        row = line.strip().split()\n",
    "        if(row[2] in conditions):\n",
    "            time_list.append(row[0])\n",
    "            sample_list.append(int(row[1]))\n",
    "            type_list.append(row[2])\n",
    "            storage_list = []\n",
    "            for i in range(int(row[1])-10,int(row[1])+11):\n",
    "                try: \n",
    "                    storage_list.append(datafile.iloc[i][\"'MLII'\"])\n",
    "                except KeyError:\n",
    "                    storage_list.append(datafile.iloc[i][\"'V5'\"])\n",
    "            feature_list.append(storage_list)\n",
    "\n",
    "    return time_list, sample_list, type_list, feature_list, datafile\n",
    "\n",
    "time_list, sample_list, type_list, feature_list, datafile = store_function(patient)\n",
    "\n",
    "#feature_list.append(datafile.iloc[int(row[1])-10:int(row[1])+10][\"'MLII'\"])"
   ]
  },
  {
   "cell_type": "code",
   "execution_count": 159,
   "metadata": {},
   "outputs": [
    {
     "name": "stdout",
     "output_type": "stream",
     "text": [
      "        'sample #'  'MLII'  'V5'\n",
      "0                0     995  1011\n",
      "1                1     995  1011\n",
      "2                2     995  1011\n",
      "3                3     995  1011\n",
      "4                4     995  1011\n",
      "...            ...     ...   ...\n",
      "649995      649995    1009   928\n",
      "649996      649996     935   942\n",
      "649997      649997     889   951\n",
      "649998      649998     871   957\n",
      "649999      649999     768  1024\n",
      "\n",
      "[650000 rows x 3 columns]\n"
     ]
    },
    {
     "data": {
      "text/plain": [
       "0    995\n",
       "1    995\n",
       "2    995\n",
       "3    995\n",
       "4    995\n",
       "Name: 'MLII', dtype: int64"
      ]
     },
     "execution_count": 159,
     "metadata": {},
     "output_type": "execute_result"
    }
   ],
   "source": [
    "print(datafile)\n",
    "datafile.iloc[0:5][\"'MLII'\"]\n"
   ]
  },
  {
   "cell_type": "code",
   "execution_count": 160,
   "metadata": {},
   "outputs": [
    {
     "name": "stdout",
     "output_type": "stream",
     "text": [
      "['100', '101', '102', '103', '104', '105', '106', '107', '108', '109', '111', '112', '113', '114', '115', '116', '117', '118', '119', '121', '122', '123', '124', '200', '201', '202', '203', '205', '207', '208', '209', '210', '212', '213', '214', '215', '217', '219', '220', '221', '222', '223', '228', '230', '231', '232', '233', '234']\n"
     ]
    }
   ],
   "source": [
    "#access the patients\n",
    "import os\n",
    "\n",
    "onlyfiles = [file for file in os.listdir('mit_data') if os.path.isfile(os.path.join('mit_data', file))]\n",
    "unique_ids = sorted(set(file[:3] for file in onlyfiles if len(file) > 3))\n",
    "unique_ids.pop(0)  # Remove the first element, assuming it's not needed\n",
    "\n",
    "print(unique_ids)\n",
    "time_list, sample_list, type_list, feature_list, datafile = store_function(unique_ids[0])  \n",
    "\n",
    "\n"
   ]
  },
  {
   "cell_type": "code",
   "execution_count": 162,
   "metadata": {},
   "outputs": [
    {
     "name": "stdout",
     "output_type": "stream",
     "text": [
      "100\n",
      "101\n",
      "102\n",
      "103\n",
      "104\n",
      "105\n",
      "106\n",
      "107\n",
      "108\n",
      "109\n",
      "111\n",
      "112\n",
      "113\n",
      "114\n",
      "115\n",
      "116\n",
      "117\n",
      "118\n",
      "119\n",
      "121\n",
      "122\n",
      "123\n",
      "124\n",
      "200\n",
      "201\n",
      "202\n",
      "203\n",
      "205\n",
      "207\n",
      "208\n",
      "209\n",
      "210\n",
      "212\n",
      "213\n",
      "214\n",
      "215\n",
      "217\n",
      "219\n",
      "220\n",
      "221\n",
      "222\n",
      "223\n",
      "228\n",
      "230\n",
      "231\n",
      "232\n",
      "233\n",
      "234\n"
     ]
    },
    {
     "data": {
      "image/png": "[encoded data removed]",
      "text/plain": [
       "<Figure size 640x480 with 1 Axes>"
      ]
     },
     "metadata": {},
     "output_type": "display_data"
    }
   ],
   "source": [
    "import matplotlib.pyplot as plt\n",
    "labels_map = {\n",
    "    0: \"N\",\n",
    "    1: \"L\",\n",
    "    2: \"R\",\n",
    "    3: \"V\",\n",
    "    4: \"/\",\n",
    "    5: \"A\",\n",
    "    6: \"f\",\n",
    "    7: \"F\"\n",
    "}\n",
    "\n",
    "count_map = {\n",
    "    \"N\":0,\n",
    "    \"L\":0,\n",
    "    \"R\":0,\n",
    "    \"V\":0,\n",
    "    \"/\":0,\n",
    "    \"A\":0,\n",
    "    \"f\":0,\n",
    "    \"F\":0\n",
    "}\n",
    "\n",
    "type_list_all = []\n",
    "feature_list_all = []\n",
    "for i in unique_ids:\n",
    "    print(i)\n",
    "    time_list, sample_list, type_list, feature_list, datafile = store_function(i)  \n",
    "    type_list_all.append(type_list)\n",
    "    feature_list_all.append(feature_list)\n",
    "    for j in type_list:\n",
    "        count_map[j] +=1\n",
    "\n",
    "plt.bar(count_map.keys(), count_map.values())\n",
    "plt.xlabel('Categories')\n",
    "plt.ylabel('Counts')\n",
    "plt.title('Counts of Categories')\n",
    "plt.show()\n"
   ]
  },
  {
   "cell_type": "code",
   "execution_count": 157,
   "metadata": {},
   "outputs": [
    {
     "name": "stdout",
     "output_type": "stream",
     "text": [
      "56322\n"
     ]
    }
   ],
   "source": [
    "print(len(feature_list))"
   ]
  },
  {
   "cell_type": "code",
   "execution_count": 189,
   "metadata": {},
   "outputs": [
    {
     "name": "stdout",
     "output_type": "stream",
     "text": [
      "Signals Tensor Shape: torch.Size([2682, 21])\n",
      "Labels Tensor Shape: torch.Size([2682, 21])\n"
     ]
    }
   ],
   "source": [
    "import pandas as pd\n",
    "import numpy as np\n",
    "import torch\n",
    "\n",
    "\n",
    "\n",
    "# Convert signals to numerical arrays\n",
    "feature_list = np.array(feature_list)\n",
    "\n",
    "# Normalize signals (optional)\n",
    "mean = feature_list.mean(axis=0)\n",
    "std = feature_list.std(axis=0)\n",
    "signals = (feature_list - mean) / std\n",
    "\n",
    "# Convert signals and labels to PyTorch tensors\n",
    "signals_tensor = torch.tensor(signals, dtype=torch.float32)\n",
    "labels_tensor = torch.tensor(feature_list, dtype=torch.long)\n",
    "\n",
    "# Print shapes to verify\n",
    "print(\"Signals Tensor Shape:\", signals_tensor.shape)\n",
    "print(\"Labels Tensor Shape:\", labels_tensor.shape)\n"
   ]
  },
  {
   "cell_type": "code",
   "execution_count": 190,
   "metadata": {},
   "outputs": [
    {
     "data": {
      "image/png": "[encoded data removed]",
      "text/plain": [
       "<Figure size 640x480 with 1 Axes>"
      ]
     },
     "metadata": {},
     "output_type": "display_data"
    }
   ],
   "source": [
    "import random\n",
    "def z_norm(result):  \n",
    "    result = (result-min(result))/(max(result)-min(result))\n",
    "    return result\n",
    "def get_patient_data(patient,norm=True, sample_plot=False):\n",
    "    widths= [4,8,11,6,3,5,5,8]\n",
    "    \n",
    "    patient=str(patient)\n",
    "    ecg_notes= pd.read_fwf('mit_data/{}annotations.txt'.format(patient),widths=widths).drop(['Unnamed: 0'],axis=1)\n",
    "    ecg_data= pd.read_csv('mit_data/{}.csv'.format(patient))\n",
    "    ecg_data.columns= ['samp_num','signal','V']\n",
    "    ecg_notes=ecg_notes[['Sample #','Type','Aux']]\n",
    "    ecg_notes.columns=['sample_num','type','aux']\n",
    "    ecg_data.signal= z_norm(ecg_data.signal)\n",
    "    if sample_plot == True:\n",
    "        peaklist= ecg_notes.sample_num.astype(int).values\n",
    "        plt.figure()\n",
    "        b=random.choice(ecg_data.signal)\n",
    "        plt.plot(ecg_data.signal)\n",
    "        plt.xlim(b,b+5000)\n",
    "        plt.plot(peaklist, ecg_data.signal[peaklist], \"x\")\n",
    "        plt.title('  Sample Patient {} data'.format(patient))\n",
    "        return None\n",
    "        \n",
    "    return ecg_data.signal,ecg_notes\n",
    "\n",
    "\n",
    "get_patient_data(patient,norm=True,sample_plot=True)\n",
    "plt.ylabel('Un-normalized Voltage')\n",
    "plt.xlabel('Sample #')\n",
    "plt.draw()"
   ]
  },
  {
   "cell_type": "code",
   "execution_count": 191,
   "metadata": {},
   "outputs": [],
   "source": [
    "import os\n",
    "import pandas as pd\n",
    "\n",
    "class CustomArrhythmiaDataset(Dataset):\n",
    "    def __init__(self, feature_list_all, type_list_all ):\n",
    "        self.feature_list_all = feature_list_all\n",
    "        self.type_list_all = type_list_all\n",
    "\n",
    "    def __len__(self):\n",
    "        return len(self.type_list_all)\n",
    "\n",
    "    def __getitem__(self, idx):\n",
    "        feature = self.feature_list_all[idx]\n",
    "        label = self.type_list_all[idx]\n",
    "        return feature, label"
   ]
  },
  {
   "cell_type": "code",
   "execution_count": 197,
   "metadata": {},
   "outputs": [
    {
     "name": "stdout",
     "output_type": "stream",
     "text": [
      "Length of Training Data: 1877\n",
      "Length of Validation Data: 268\n",
      "Length of Testing Data: 537\n"
     ]
    }
   ],
   "source": [
    "from torch.utils.data import DataLoader\n",
    "import random\n",
    "\n",
    "# Define the sizes of the training, validation, and testing sets\n",
    "train_size = 0.7  # 70% for training\n",
    "val_size = 0.1    # 10% for validation\n",
    "test_size = 0.2   # 20% for testing\n",
    "\n",
    "# Shuffle the data to ensure randomness\n",
    "random.shuffle(feature_list)\n",
    "\n",
    "# Calculate the split indices\n",
    "train_split = int(len(feature_list) * train_size)\n",
    "val_split = train_split + int(len(feature_list) * val_size)\n",
    "\n",
    "# Split the data into training, validation, and testing sets\n",
    "train_data = feature_list[:train_split]\n",
    "val_data = feature_list[train_split:val_split]\n",
    "test_data = feature_list[val_split:]\n",
    "\n",
    "# Print the lengths of the datasets to verify the splits\n",
    "print(\"Length of Training Data:\", len(train_data))\n",
    "print(\"Length of Validation Data:\", len(val_data))\n",
    "print(\"Length of Testing Data:\", len(test_data))\n",
    "\n",
    "train_dataset = CustomArrhythmiaDataset(train_data, type_list_all)\n",
    "val_dataset = CustomArrhythmiaDataset(val_data, type_list_all)\n",
    "test_dataset = CustomArrhythmiaDataset(test_data, type_list_all)\n",
    "\n",
    "# Define batch size\n",
    "batch_size = 64  # Adjust according to your requirements\n",
    "\n",
    "# Create DataLoader instances for training, validation, and testing datasets\n",
    "def collate_fn(batch):\n",
    "       # Sort batch by sequence length\n",
    "    batch.sort(key=lambda x: len(x[0]), reverse=True)\n",
    "    sequences, labels = zip(*batch)\n",
    "    # Pad sequences to the length of the longest sequence in the batch\n",
    "    padded_sequences = nn.utils.rnn.pad_sequence([torch.tensor(seq) for seq in sequences], batch_first=True)\n",
    "    return padded_sequences, torch.tensor(labels)\n",
    "# Use the custom collate function with your DataLoader\n",
    "train_dataloader = DataLoader(train_dataset, batch_size=batch_size, shuffle=True, collate_fn=collate_fn)\n",
    "val_dataloader = DataLoader(val_dataset, batch_size=batch_size, shuffle=False)\n",
    "test_dataloader = DataLoader(test_dataset, batch_size=batch_size, shuffle=False)\n"
   ]
  },
  {
   "cell_type": "code",
   "execution_count": 198,
   "metadata": {},
   "outputs": [],
   "source": [
    "import torch\n",
    "from torchvision import datasets\n",
    "from torchvision.transforms import ToTensor, Lambda\n",
    "\n",
    "ds = datasets.FashionMNIST(\n",
    "    root=\"data\",\n",
    "    train=True,\n",
    "    download=True,\n",
    "    transform=ToTensor(),\n",
    "    target_transform=Lambda(lambda y: torch.zeros(10, dtype=torch.float).scatter_(0, torch.tensor(y), value=1))\n",
    ")"
   ]
  },
  {
   "cell_type": "code",
   "execution_count": 194,
   "metadata": {},
   "outputs": [
    {
     "name": "stdout",
     "output_type": "stream",
     "text": [
      "Using cpu device\n"
     ]
    }
   ],
   "source": [
    "device = (\n",
    "    \"cuda\"\n",
    "    if torch.cuda.is_available()\n",
    "    else \"mps\"\n",
    "    if torch.backends.mps.is_available()\n",
    "    else \"cpu\"\n",
    ")\n",
    "device = \"cpu\"\n",
    "print(f\"Using {device} device\")"
   ]
  },
  {
   "cell_type": "code",
   "execution_count": 199,
   "metadata": {},
   "outputs": [
    {
     "name": "stdout",
     "output_type": "stream",
     "text": [
      "CNN(\n",
      "  (conv1): Conv1d(1, 16, kernel_size=(3,), stride=(1,), padding=(1,))\n",
      "  (conv2): Conv1d(16, 32, kernel_size=(3,), stride=(1,), padding=(1,))\n",
      "  (conv3): Conv1d(32, 64, kernel_size=(3,), stride=(1,), padding=(1,))\n",
      "  (pool): MaxPool1d(kernel_size=2, stride=2, padding=0, dilation=1, ceil_mode=False)\n",
      "  (fc1): Linear(in_features=512, out_features=512, bias=True)\n",
      "  (fc2): Linear(in_features=512, out_features=10, bias=True)\n",
      ")\n"
     ]
    }
   ],
   "source": [
    "import torch\n",
    "import torch.nn as nn\n",
    "\n",
    "class CNN(nn.Module):\n",
    "    def __init__(self):\n",
    "        super().__init__()\n",
    "        self.conv1 = nn.Conv1d(in_channels=1, out_channels=16, kernel_size=3, stride=1, padding=1)\n",
    "        self.conv2 = nn.Conv1d(in_channels=16, out_channels=32, kernel_size=3, stride=1, padding=1)\n",
    "        self.conv3 = nn.Conv1d(in_channels=32, out_channels=64, kernel_size=3, stride=1, padding=1)\n",
    "        self.pool = nn.MaxPool1d(kernel_size=2, stride=2)\n",
    "        self.fc1 = nn.Linear(64 * 8, 512)\n",
    "        self.fc2 = nn.Linear(512, 10)\n",
    "\n",
    "    def forward(self, x):\n",
    "        x = x.unsqueeze(1)  # Add channel dimension (batch_size, channels, sequence_length)\n",
    "        x = self.pool(torch.relu(self.conv1(x)))\n",
    "        x = self.pool(torch.relu(self.conv2(x)))\n",
    "        x = self.pool(torch.relu(self.conv3(x)))\n",
    "        x = torch.flatten(x, 1)  # Flatten for fully connected layers\n",
    "        x = torch.relu(self.fc1(x))\n",
    "        x = self.fc2(x)\n",
    "        return x\n",
    "\n",
    "# Instantiate the CNN model\n",
    "model = CNN()\n",
    "print(model)\n"
   ]
  },
  {
   "cell_type": "code",
   "execution_count": 196,
   "metadata": {},
   "outputs": [
    {
     "ename": "ValueError",
     "evalue": "too many dimensions 'str'",
     "output_type": "error",
     "traceback": [
      "\u001b[0;31m---------------------------------------------------------------------------\u001b[0m",
      "\u001b[0;31mValueError\u001b[0m                                Traceback (most recent call last)",
      "Cell \u001b[0;32mIn[196], line 21\u001b[0m\n\u001b[1;32m     18\u001b[0m running_loss \u001b[38;5;241m=\u001b[39m \u001b[38;5;241m0.0\u001b[39m\n\u001b[1;32m     20\u001b[0m \u001b[38;5;66;03m# Iterate over the training dataset\u001b[39;00m\n\u001b[0;32m---> 21\u001b[0m \u001b[38;5;28;01mfor\u001b[39;00m inputs, labels \u001b[38;5;129;01min\u001b[39;00m train_dataloader:\n\u001b[1;32m     22\u001b[0m     inputs, labels \u001b[38;5;241m=\u001b[39m inputs\u001b[38;5;241m.\u001b[39mto(device), labels\u001b[38;5;241m.\u001b[39mto(device)\n\u001b[1;32m     24\u001b[0m     \u001b[38;5;66;03m# Zero the gradients\u001b[39;00m\n",
      "File \u001b[0;32m~/Library/Python/3.9/lib/python/site-packages/torch/utils/data/dataloader.py:630\u001b[0m, in \u001b[0;36m_BaseDataLoaderIter.__next__\u001b[0;34m(self)\u001b[0m\n\u001b[1;32m    627\u001b[0m \u001b[38;5;28;01mif\u001b[39;00m \u001b[38;5;28mself\u001b[39m\u001b[38;5;241m.\u001b[39m_sampler_iter \u001b[38;5;129;01mis\u001b[39;00m \u001b[38;5;28;01mNone\u001b[39;00m:\n\u001b[1;32m    628\u001b[0m     \u001b[38;5;66;03m# TODO(https://github.com/pytorch/pytorch/issues/76750)\u001b[39;00m\n\u001b[1;32m    629\u001b[0m     \u001b[38;5;28mself\u001b[39m\u001b[38;5;241m.\u001b[39m_reset()  \u001b[38;5;66;03m# type: ignore[call-arg]\u001b[39;00m\n\u001b[0;32m--> 630\u001b[0m data \u001b[38;5;241m=\u001b[39m \u001b[38;5;28;43mself\u001b[39;49m\u001b[38;5;241;43m.\u001b[39;49m\u001b[43m_next_data\u001b[49m\u001b[43m(\u001b[49m\u001b[43m)\u001b[49m\n\u001b[1;32m    631\u001b[0m \u001b[38;5;28mself\u001b[39m\u001b[38;5;241m.\u001b[39m_num_yielded \u001b[38;5;241m+\u001b[39m\u001b[38;5;241m=\u001b[39m \u001b[38;5;241m1\u001b[39m\n\u001b[1;32m    632\u001b[0m \u001b[38;5;28;01mif\u001b[39;00m \u001b[38;5;28mself\u001b[39m\u001b[38;5;241m.\u001b[39m_dataset_kind \u001b[38;5;241m==\u001b[39m _DatasetKind\u001b[38;5;241m.\u001b[39mIterable \u001b[38;5;129;01mand\u001b[39;00m \\\n\u001b[1;32m    633\u001b[0m         \u001b[38;5;28mself\u001b[39m\u001b[38;5;241m.\u001b[39m_IterableDataset_len_called \u001b[38;5;129;01mis\u001b[39;00m \u001b[38;5;129;01mnot\u001b[39;00m \u001b[38;5;28;01mNone\u001b[39;00m \u001b[38;5;129;01mand\u001b[39;00m \\\n\u001b[1;32m    634\u001b[0m         \u001b[38;5;28mself\u001b[39m\u001b[38;5;241m.\u001b[39m_num_yielded \u001b[38;5;241m>\u001b[39m \u001b[38;5;28mself\u001b[39m\u001b[38;5;241m.\u001b[39m_IterableDataset_len_called:\n",
      "File \u001b[0;32m~/Library/Python/3.9/lib/python/site-packages/torch/utils/data/dataloader.py:674\u001b[0m, in \u001b[0;36m_SingleProcessDataLoaderIter._next_data\u001b[0;34m(self)\u001b[0m\n\u001b[1;32m    672\u001b[0m \u001b[38;5;28;01mdef\u001b[39;00m \u001b[38;5;21m_next_data\u001b[39m(\u001b[38;5;28mself\u001b[39m):\n\u001b[1;32m    673\u001b[0m     index \u001b[38;5;241m=\u001b[39m \u001b[38;5;28mself\u001b[39m\u001b[38;5;241m.\u001b[39m_next_index()  \u001b[38;5;66;03m# may raise StopIteration\u001b[39;00m\n\u001b[0;32m--> 674\u001b[0m     data \u001b[38;5;241m=\u001b[39m \u001b[38;5;28;43mself\u001b[39;49m\u001b[38;5;241;43m.\u001b[39;49m\u001b[43m_dataset_fetcher\u001b[49m\u001b[38;5;241;43m.\u001b[39;49m\u001b[43mfetch\u001b[49m\u001b[43m(\u001b[49m\u001b[43mindex\u001b[49m\u001b[43m)\u001b[49m  \u001b[38;5;66;03m# may raise StopIteration\u001b[39;00m\n\u001b[1;32m    675\u001b[0m     \u001b[38;5;28;01mif\u001b[39;00m \u001b[38;5;28mself\u001b[39m\u001b[38;5;241m.\u001b[39m_pin_memory:\n\u001b[1;32m    676\u001b[0m         data \u001b[38;5;241m=\u001b[39m _utils\u001b[38;5;241m.\u001b[39mpin_memory\u001b[38;5;241m.\u001b[39mpin_memory(data, \u001b[38;5;28mself\u001b[39m\u001b[38;5;241m.\u001b[39m_pin_memory_device)\n",
      "File \u001b[0;32m~/Library/Python/3.9/lib/python/site-packages/torch/utils/data/_utils/fetch.py:54\u001b[0m, in \u001b[0;36m_MapDatasetFetcher.fetch\u001b[0;34m(self, possibly_batched_index)\u001b[0m\n\u001b[1;32m     52\u001b[0m \u001b[38;5;28;01melse\u001b[39;00m:\n\u001b[1;32m     53\u001b[0m     data \u001b[38;5;241m=\u001b[39m \u001b[38;5;28mself\u001b[39m\u001b[38;5;241m.\u001b[39mdataset[possibly_batched_index]\n\u001b[0;32m---> 54\u001b[0m \u001b[38;5;28;01mreturn\u001b[39;00m \u001b[38;5;28;43mself\u001b[39;49m\u001b[38;5;241;43m.\u001b[39;49m\u001b[43mcollate_fn\u001b[49m\u001b[43m(\u001b[49m\u001b[43mdata\u001b[49m\u001b[43m)\u001b[49m\n",
      "Cell \u001b[0;32mIn[192], line 40\u001b[0m, in \u001b[0;36mcollate_fn\u001b[0;34m(batch)\u001b[0m\n\u001b[1;32m     38\u001b[0m \u001b[38;5;66;03m# Pad sequences to the length of the longest sequence in the batch\u001b[39;00m\n\u001b[1;32m     39\u001b[0m padded_sequences \u001b[38;5;241m=\u001b[39m nn\u001b[38;5;241m.\u001b[39mutils\u001b[38;5;241m.\u001b[39mrnn\u001b[38;5;241m.\u001b[39mpad_sequence([torch\u001b[38;5;241m.\u001b[39mtensor(seq) \u001b[38;5;28;01mfor\u001b[39;00m seq \u001b[38;5;129;01min\u001b[39;00m sequences], batch_first\u001b[38;5;241m=\u001b[39m\u001b[38;5;28;01mTrue\u001b[39;00m)\n\u001b[0;32m---> 40\u001b[0m \u001b[38;5;28;01mreturn\u001b[39;00m padded_sequences, \u001b[43mtorch\u001b[49m\u001b[38;5;241;43m.\u001b[39;49m\u001b[43mtensor\u001b[49m\u001b[43m(\u001b[49m\u001b[43mlabels\u001b[49m\u001b[43m)\u001b[49m\n",
      "\u001b[0;31mValueError\u001b[0m: too many dimensions 'str'"
     ]
    }
   ],
   "source": [
    "import torch\n",
    "import torch.nn as nn\n",
    "import torch.optim as optim\n",
    "\n",
    "# Define the loss function and optimizer\n",
    "criterion = nn.CrossEntropyLoss()\n",
    "optimizer = optim.Adam(model.parameters(), lr=0.001)\n",
    "\n",
    "# Define the number of epochs\n",
    "num_epochs = 10\n",
    "\n",
    "# Set the device (GPU if available, otherwise CPU)\n",
    "device = torch.device(\"cuda\" if torch.cuda.is_available() else \"cpu\")\n",
    "model.to(device)\n",
    "\n",
    "for epoch in range(num_epochs):\n",
    "    model.train()  # Set the model to training mode\n",
    "    running_loss = 0.0\n",
    "\n",
    "    # Iterate over the training dataset\n",
    "    for inputs, labels in train_dataloader:\n",
    "        inputs, labels = inputs.to(device), labels.to(device)\n",
    "\n",
    "        # Zero the gradients\n",
    "        optimizer.zero_grad()\n",
    "\n",
    "        # Forward pass\n",
    "        outputs = model(inputs)\n",
    "\n",
    "        # Calculate the loss\n",
    "        loss = criterion(outputs, labels)\n",
    "\n",
    "        # Backward pass and optimization\n",
    "        loss.backward()\n",
    "        optimizer.step()\n",
    "\n",
    "        # Accumulate the loss\n",
    "        running_loss += loss.item()\n",
    "\n",
    "    # Print average loss for the epoch\n",
    "    print(f\"Epoch [{epoch + 1}/{num_epochs}], Loss: {running_loss / len(train_dataloader)}\")\n",
    "\n",
    "print(\"Training complete.\")"
   ]
  },
  {
   "cell_type": "code",
   "execution_count": 44,
   "metadata": {},
   "outputs": [],
   "source": [
    "class NeuralNetwork(nn.Module):\n",
    "    def __init__(self):\n",
    "        super().__init__()\n",
    "        self.flatten = nn.Flatten()\n",
    "        self.linear_relu_stack = nn.Sequential(\n",
    "            nn.Linear(28*28, 512),\n",
    "            nn.ReLU(),\n",
    "            nn.Linear(512, 512),\n",
    "            nn.ReLU(),\n",
    "            nn.Linear(512, 10),\n",
    "        )\n",
    "\n",
    "    def forward(self, x):\n",
    "        x = self.flatten(x)\n",
    "        logits = self.linear_relu_stack(x)\n",
    "        return logits"
   ]
  },
  {
   "cell_type": "code",
   "execution_count": 45,
   "metadata": {},
   "outputs": [
    {
     "name": "stdout",
     "output_type": "stream",
     "text": [
      "NeuralNetwork(\n",
      "  (flatten): Flatten(start_dim=1, end_dim=-1)\n",
      "  (linear_relu_stack): Sequential(\n",
      "    (0): Linear(in_features=784, out_features=512, bias=True)\n",
      "    (1): ReLU()\n",
      "    (2): Linear(in_features=512, out_features=512, bias=True)\n",
      "    (3): ReLU()\n",
      "    (4): Linear(in_features=512, out_features=10, bias=True)\n",
      "  )\n",
      ")\n"
     ]
    }
   ],
   "source": [
    "model = NeuralNetwork().to(device)\n",
    "print(model)"
   ]
  },
  {
   "cell_type": "code",
   "execution_count": 46,
   "metadata": {},
   "outputs": [
    {
     "name": "stdout",
     "output_type": "stream",
     "text": [
      "Predicted class: tensor([2])\n"
     ]
    }
   ],
   "source": [
    "X = torch.rand(1, 28, 28, device=device)\n",
    "logits = model(X)\n",
    "pred_probab = nn.Softmax(dim=1)(logits)\n",
    "y_pred = pred_probab.argmax(1)\n",
    "print(f\"Predicted class: {y_pred}\")"
   ]
  },
  {
   "cell_type": "code",
   "execution_count": 47,
   "metadata": {},
   "outputs": [
    {
     "name": "stdout",
     "output_type": "stream",
     "text": [
      "torch.Size([3, 28, 28])\n"
     ]
    }
   ],
   "source": [
    "input_image = torch.rand(3,28,28)\n",
    "print(input_image.size())"
   ]
  },
  {
   "cell_type": "code",
   "execution_count": 48,
   "metadata": {},
   "outputs": [
    {
     "name": "stdout",
     "output_type": "stream",
     "text": [
      "torch.Size([3, 784])\n"
     ]
    }
   ],
   "source": [
    "flatten = nn.Flatten()\n",
    "flat_image = flatten(input_image)\n",
    "print(flat_image.size())"
   ]
  },
  {
   "cell_type": "code",
   "execution_count": 49,
   "metadata": {},
   "outputs": [
    {
     "name": "stdout",
     "output_type": "stream",
     "text": [
      "torch.Size([3, 20])\n"
     ]
    }
   ],
   "source": [
    "layer1 = nn.Linear(in_features=28*28, out_features=20)\n",
    "hidden1 = layer1(flat_image)\n",
    "print(hidden1.size())"
   ]
  },
  {
   "cell_type": "code",
   "execution_count": 50,
   "metadata": {},
   "outputs": [
    {
     "name": "stdout",
     "output_type": "stream",
     "text": [
      "Before ReLU: tensor([[-0.0422,  0.2567, -0.1300, -0.0378, -0.3387,  0.7895, -0.3363, -0.1421,\n",
      "          0.0900, -0.3998, -0.1397,  0.2506,  0.3262,  0.0659,  0.2221,  0.4679,\n",
      "          0.6152,  0.1948, -0.0775, -0.4492],\n",
      "        [ 0.0237,  0.5144,  0.1802,  0.3457, -0.0461,  0.2749, -0.6718, -0.0594,\n",
      "         -0.2098, -0.4099,  0.0202,  0.8654,  0.0576, -0.2113, -0.0354,  0.2176,\n",
      "          0.6417,  0.1802, -0.4189, -0.1212],\n",
      "        [ 0.0609,  0.4032,  0.0241,  0.4026, -0.3077, -0.0228, -0.5026, -0.2554,\n",
      "          0.0578, -0.7925, -0.1568,  0.4622,  0.3561, -0.0174, -0.3077,  0.0465,\n",
      "          0.7655,  0.0937, -0.3742, -0.2461]], grad_fn=<AddmmBackward0>)\n",
      "\n",
      "\n",
      "After ReLU: tensor([[0.0000, 0.2567, 0.0000, 0.0000, 0.0000, 0.7895, 0.0000, 0.0000, 0.0900,\n",
      "         0.0000, 0.0000, 0.2506, 0.3262, 0.0659, 0.2221, 0.4679, 0.6152, 0.1948,\n",
      "         0.0000, 0.0000],\n",
      "        [0.0237, 0.5144, 0.1802, 0.3457, 0.0000, 0.2749, 0.0000, 0.0000, 0.0000,\n",
      "         0.0000, 0.0202, 0.8654, 0.0576, 0.0000, 0.0000, 0.2176, 0.6417, 0.1802,\n",
      "         0.0000, 0.0000],\n",
      "        [0.0609, 0.4032, 0.0241, 0.4026, 0.0000, 0.0000, 0.0000, 0.0000, 0.0578,\n",
      "         0.0000, 0.0000, 0.4622, 0.3561, 0.0000, 0.0000, 0.0465, 0.7655, 0.0937,\n",
      "         0.0000, 0.0000]], grad_fn=<ReluBackward0>)\n"
     ]
    }
   ],
   "source": [
    "print(f\"Before ReLU: {hidden1}\\n\\n\")\n",
    "hidden1 = nn.ReLU()(hidden1)\n",
    "print(f\"After ReLU: {hidden1}\")"
   ]
  },
  {
   "cell_type": "code",
   "execution_count": 51,
   "metadata": {},
   "outputs": [],
   "source": [
    "seq_modules = nn.Sequential(\n",
    "    flatten,\n",
    "    layer1,\n",
    "    nn.ReLU(),\n",
    "    nn.Linear(20, 10)\n",
    ")\n",
    "input_image = torch.rand(3,28,28)\n",
    "logits = seq_modules(input_image)"
   ]
  },
  {
   "cell_type": "code",
   "execution_count": 52,
   "metadata": {},
   "outputs": [],
   "source": [
    "softmax = nn.Softmax(dim=1)\n",
    "pred_probab = softmax(logits)"
   ]
  },
  {
   "cell_type": "code",
   "execution_count": 53,
   "metadata": {},
   "outputs": [
    {
     "name": "stdout",
     "output_type": "stream",
     "text": [
      "Model structure: NeuralNetwork(\n",
      "  (flatten): Flatten(start_dim=1, end_dim=-1)\n",
      "  (linear_relu_stack): Sequential(\n",
      "    (0): Linear(in_features=784, out_features=512, bias=True)\n",
      "    (1): ReLU()\n",
      "    (2): Linear(in_features=512, out_features=512, bias=True)\n",
      "    (3): ReLU()\n",
      "    (4): Linear(in_features=512, out_features=10, bias=True)\n",
      "  )\n",
      ")\n",
      "\n",
      "\n",
      "Layer: linear_relu_stack.0.weight | Size: torch.Size([512, 784]) | Values : tensor([[ 3.0590e-03,  3.5689e-02, -2.1531e-02,  ...,  8.5570e-06,\n",
      "         -1.6996e-02,  2.7888e-02],\n",
      "        [ 1.5005e-02,  9.7680e-03,  2.7496e-02,  ..., -1.3444e-02,\n",
      "          2.2008e-03,  7.4503e-04]], grad_fn=<SliceBackward0>) \n",
      "\n",
      "Layer: linear_relu_stack.0.bias | Size: torch.Size([512]) | Values : tensor([0.0217, 0.0035], grad_fn=<SliceBackward0>) \n",
      "\n",
      "Layer: linear_relu_stack.2.weight | Size: torch.Size([512, 512]) | Values : tensor([[ 0.0079,  0.0064, -0.0340,  ..., -0.0083, -0.0020,  0.0089],\n",
      "        [-0.0171,  0.0090, -0.0371,  ...,  0.0333,  0.0338,  0.0043]],\n",
      "       grad_fn=<SliceBackward0>) \n",
      "\n",
      "Layer: linear_relu_stack.2.bias | Size: torch.Size([512]) | Values : tensor([-0.0062, -0.0404], grad_fn=<SliceBackward0>) \n",
      "\n",
      "Layer: linear_relu_stack.4.weight | Size: torch.Size([10, 512]) | Values : tensor([[-0.0055, -0.0380,  0.0402,  ...,  0.0007,  0.0166,  0.0221],\n",
      "        [ 0.0184, -0.0145,  0.0393,  ...,  0.0088,  0.0433,  0.0325]],\n",
      "       grad_fn=<SliceBackward0>) \n",
      "\n",
      "Layer: linear_relu_stack.4.bias | Size: torch.Size([10]) | Values : tensor([-0.0295,  0.0378], grad_fn=<SliceBackward0>) \n",
      "\n"
     ]
    }
   ],
   "source": [
    "print(f\"Model structure: {model}\\n\\n\")\n",
    "\n",
    "for name, param in model.named_parameters():\n",
    "    print(f\"Layer: {name} | Size: {param.size()} | Values : {param[:2]} \\n\")"
   ]
  },
  {
   "cell_type": "code",
   "execution_count": 54,
   "metadata": {},
   "outputs": [],
   "source": [
    "learning_rate = 1e-3\n",
    "batch_size = 64\n",
    "epochs = 5"
   ]
  },
  {
   "cell_type": "code",
   "execution_count": 55,
   "metadata": {},
   "outputs": [],
   "source": [
    "\n",
    "loss_fn = nn.CrossEntropyLoss()"
   ]
  },
  {
   "cell_type": "code",
   "execution_count": 56,
   "metadata": {},
   "outputs": [],
   "source": [
    "optimizer = torch.optim.SGD(model.parameters(), lr=learning_rate)"
   ]
  },
  {
   "cell_type": "code",
   "execution_count": 59,
   "metadata": {},
   "outputs": [],
   "source": [
    "def train_loop(dataloader, model, loss_fn, optimizer):\n",
    "    size = len(dataloader.dataset)\n",
    "    model.train()\n",
    "    for batch, (X, y) in enumerate(dataloader):\n",
    "        pred = model(X)\n",
    "        loss = loss_fn(pred, y)\n",
    "\n",
    "\n",
    "        loss.backward()\n",
    "        optimizer.step()\n",
    "        optimizer.zero_grad()\n",
    "\n",
    "        if batch % 100 == 0:\n",
    "            loss, current = loss.item(), (batch + 1) * len(X)\n",
    "            print(f\"loss: {loss:>7f}  [{current:>5d}/{size:>5d}]\")\n",
    "\n",
    "\n",
    "def test_loop(dataloader, model, loss_fn):\n",
    "    model.eval()\n",
    "    size = len(dataloader.dataset)\n",
    "    num_batches = len(dataloader)\n",
    "    test_loss, correct = 0, 0\n",
    "\n",
    "    with torch.no_grad():\n",
    "        for X, y in dataloader:\n",
    "            pred = model(X)\n",
    "            test_loss += loss_fn(pred, y).item()\n",
    "            correct += (pred.argmax(1) == y).type(torch.float).sum().item()\n",
    "\n",
    "    test_loss /= num_batches\n",
    "    correct /= size\n",
    "    print(f\"Test Error: \\n Accuracy: {(100*correct):>0.1f}%, Avg loss: {test_loss:>8f} \\n\")"
   ]
  },
  {
   "cell_type": "code",
   "execution_count": 60,
   "metadata": {},
   "outputs": [
    {
     "name": "stdout",
     "output_type": "stream",
     "text": [
      "Epoch 1\n",
      "-------------------------------\n",
      "loss: 2.306395  [   64/60000]\n",
      "loss: 2.289224  [ 6464/60000]\n",
      "loss: 2.282892  [12864/60000]\n",
      "loss: 2.251267  [19264/60000]\n",
      "loss: 2.284372  [25664/60000]\n",
      "loss: 2.235191  [32064/60000]\n",
      "loss: 2.220590  [38464/60000]\n",
      "loss: 2.192304  [44864/60000]\n",
      "loss: 2.171156  [51264/60000]\n",
      "loss: 2.183296  [57664/60000]\n",
      "Test Error: \n",
      " Accuracy: 47.7%, Avg loss: 2.168401 \n",
      "\n",
      "Epoch 2\n",
      "-------------------------------\n",
      "loss: 2.186865  [   64/60000]\n",
      "loss: 2.127919  [ 6464/60000]\n",
      "loss: 2.156564  [12864/60000]\n",
      "loss: 2.114685  [19264/60000]\n",
      "loss: 2.055160  [25664/60000]\n",
      "loss: 2.079516  [32064/60000]\n",
      "loss: 2.012615  [38464/60000]\n",
      "loss: 1.977399  [44864/60000]\n",
      "loss: 1.954687  [51264/60000]\n",
      "loss: 1.949767  [57664/60000]\n",
      "Test Error: \n",
      " Accuracy: 59.4%, Avg loss: 1.926234 \n",
      "\n",
      "Epoch 3\n",
      "-------------------------------\n",
      "loss: 1.905416  [   64/60000]\n",
      "loss: 1.943895  [ 6464/60000]\n",
      "loss: 1.859536  [12864/60000]\n",
      "loss: 1.839421  [19264/60000]\n",
      "loss: 1.859195  [25664/60000]\n",
      "loss: 1.716004  [32064/60000]\n",
      "loss: 1.663169  [38464/60000]\n",
      "loss: 1.727409  [44864/60000]\n",
      "loss: 1.578286  [51264/60000]\n",
      "loss: 1.530821  [57664/60000]\n",
      "Test Error: \n",
      " Accuracy: 60.0%, Avg loss: 1.565534 \n",
      "\n",
      "Epoch 4\n",
      "-------------------------------\n",
      "loss: 1.705859  [   64/60000]\n",
      "loss: 1.541045  [ 6464/60000]\n",
      "loss: 1.508247  [12864/60000]\n",
      "loss: 1.490854  [19264/60000]\n",
      "loss: 1.358997  [25664/60000]\n",
      "loss: 1.384723  [32064/60000]\n",
      "loss: 1.451511  [38464/60000]\n",
      "loss: 1.304006  [44864/60000]\n",
      "loss: 1.346096  [51264/60000]\n",
      "loss: 1.215744  [57664/60000]\n",
      "Test Error: \n",
      " Accuracy: 62.8%, Avg loss: 1.286102 \n",
      "\n",
      "Epoch 5\n",
      "-------------------------------\n",
      "loss: 1.249902  [   64/60000]\n",
      "loss: 1.299388  [ 6464/60000]\n",
      "loss: 1.229147  [12864/60000]\n",
      "loss: 1.232443  [19264/60000]\n",
      "loss: 1.144559  [25664/60000]\n",
      "loss: 1.168151  [32064/60000]\n",
      "loss: 1.156479  [38464/60000]\n",
      "loss: 1.136734  [44864/60000]\n",
      "loss: 0.953062  [51264/60000]\n",
      "loss: 1.099879  [57664/60000]\n",
      "Test Error: \n",
      " Accuracy: 63.9%, Avg loss: 1.111997 \n",
      "\n",
      "Epoch 6\n",
      "-------------------------------\n",
      "loss: 1.087398  [   64/60000]\n",
      "loss: 1.047355  [ 6464/60000]\n",
      "loss: 1.077980  [12864/60000]\n",
      "loss: 1.145088  [19264/60000]\n",
      "loss: 1.032905  [25664/60000]\n",
      "loss: 1.157650  [32064/60000]\n",
      "loss: 1.058834  [38464/60000]\n",
      "loss: 1.134506  [44864/60000]\n",
      "loss: 1.043846  [51264/60000]\n",
      "loss: 1.224164  [57664/60000]\n",
      "Test Error: \n",
      " Accuracy: 65.4%, Avg loss: 0.999085 \n",
      "\n",
      "Epoch 7\n",
      "-------------------------------\n",
      "loss: 0.975681  [   64/60000]\n",
      "loss: 0.965155  [ 6464/60000]\n",
      "loss: 0.996080  [12864/60000]\n",
      "loss: 0.924727  [19264/60000]\n",
      "loss: 0.944688  [25664/60000]\n",
      "loss: 0.960572  [32064/60000]\n",
      "loss: 0.938322  [38464/60000]\n",
      "loss: 0.927465  [44864/60000]\n",
      "loss: 1.054817  [51264/60000]\n",
      "loss: 1.074707  [57664/60000]\n",
      "Test Error: \n",
      " Accuracy: 67.1%, Avg loss: 0.922164 \n",
      "\n",
      "Epoch 8\n",
      "-------------------------------\n",
      "loss: 1.098007  [   64/60000]\n",
      "loss: 0.949406  [ 6464/60000]\n",
      "loss: 0.968666  [12864/60000]\n",
      "loss: 0.804529  [19264/60000]\n",
      "loss: 0.872652  [25664/60000]\n",
      "loss: 0.987187  [32064/60000]\n",
      "loss: 0.909930  [38464/60000]\n",
      "loss: 0.971225  [44864/60000]\n",
      "loss: 0.660255  [51264/60000]\n",
      "loss: 0.808941  [57664/60000]\n",
      "Test Error: \n",
      " Accuracy: 67.5%, Avg loss: 0.867282 \n",
      "\n",
      "Epoch 9\n",
      "-------------------------------\n",
      "loss: 0.737185  [   64/60000]\n",
      "loss: 0.918583  [ 6464/60000]\n",
      "loss: 0.764737  [12864/60000]\n",
      "loss: 0.880440  [19264/60000]\n",
      "loss: 0.852416  [25664/60000]\n",
      "loss: 0.921764  [32064/60000]\n",
      "loss: 0.830460  [38464/60000]\n",
      "loss: 0.744511  [44864/60000]\n",
      "loss: 1.000617  [51264/60000]\n",
      "loss: 0.790649  [57664/60000]\n",
      "Test Error: \n",
      " Accuracy: 68.8%, Avg loss: 0.828733 \n",
      "\n",
      "Epoch 10\n",
      "-------------------------------\n",
      "loss: 0.887744  [   64/60000]\n",
      "loss: 0.932810  [ 6464/60000]\n",
      "loss: 0.810441  [12864/60000]\n",
      "loss: 1.088861  [19264/60000]\n",
      "loss: 0.792306  [25664/60000]\n",
      "loss: 0.842159  [32064/60000]\n",
      "loss: 0.774090  [38464/60000]\n",
      "loss: 0.838995  [44864/60000]\n",
      "loss: 0.735790  [51264/60000]\n",
      "loss: 0.854628  [57664/60000]\n",
      "Test Error: \n",
      " Accuracy: 70.6%, Avg loss: 0.793813 \n",
      "\n",
      "Done!\n"
     ]
    }
   ],
   "source": [
    "loss_fn = nn.CrossEntropyLoss()\n",
    "optimizer = torch.optim.SGD(model.parameters(), lr=learning_rate)\n",
    "\n",
    "epochs = 10\n",
    "for t in range(epochs):\n",
    "    print(f\"Epoch {t+1}\\n-------------------------------\")\n",
    "    train_loop(train_dataloader, model, loss_fn, optimizer)\n",
    "    test_loop(test_dataloader, model, loss_fn)\n",
    "print(\"Done!\")"
   ]
  },
  {
   "cell_type": "code",
   "execution_count": 62,
   "metadata": {},
   "outputs": [],
   "source": [
    "import torchvision.models as models"
   ]
  },
  {
   "cell_type": "code",
   "execution_count": 63,
   "metadata": {},
   "outputs": [
    {
     "name": "stderr",
     "output_type": "stream",
     "text": [
      "Downloading: \"https://download.pytorch.org/models/vgg16-397923af.pth\" to /Users/prishamarpu/.cache/torch/hub/checkpoints/vgg16-397923af.pth\n",
      "100.0%\n"
     ]
    }
   ],
   "source": [
    "model = models.vgg16(weights='IMAGENET1K_V1')\n",
    "torch.save(model.state_dict(), 'model_weights.pth')"
   ]
  },
  {
   "cell_type": "code",
   "execution_count": 64,
   "metadata": {},
   "outputs": [
    {
     "data": {
      "text/plain": [
       "VGG(\n",
       "  (features): Sequential(\n",
       "    (0): Conv2d(3, 64, kernel_size=(3, 3), stride=(1, 1), padding=(1, 1))\n",
       "    (1): ReLU(inplace=True)\n",
       "    (2): Conv2d(64, 64, kernel_size=(3, 3), stride=(1, 1), padding=(1, 1))\n",
       "    (3): ReLU(inplace=True)\n",
       "    (4): MaxPool2d(kernel_size=2, stride=2, padding=0, dilation=1, ceil_mode=False)\n",
       "    (5): Conv2d(64, 128, kernel_size=(3, 3), stride=(1, 1), padding=(1, 1))\n",
       "    (6): ReLU(inplace=True)\n",
       "    (7): Conv2d(128, 128, kernel_size=(3, 3), stride=(1, 1), padding=(1, 1))\n",
       "    (8): ReLU(inplace=True)\n",
       "    (9): MaxPool2d(kernel_size=2, stride=2, padding=0, dilation=1, ceil_mode=False)\n",
       "    (10): Conv2d(128, 256, kernel_size=(3, 3), stride=(1, 1), padding=(1, 1))\n",
       "    (11): ReLU(inplace=True)\n",
       "    (12): Conv2d(256, 256, kernel_size=(3, 3), stride=(1, 1), padding=(1, 1))\n",
       "    (13): ReLU(inplace=True)\n",
       "    (14): Conv2d(256, 256, kernel_size=(3, 3), stride=(1, 1), padding=(1, 1))\n",
       "    (15): ReLU(inplace=True)\n",
       "    (16): MaxPool2d(kernel_size=2, stride=2, padding=0, dilation=1, ceil_mode=False)\n",
       "    (17): Conv2d(256, 512, kernel_size=(3, 3), stride=(1, 1), padding=(1, 1))\n",
       "    (18): ReLU(inplace=True)\n",
       "    (19): Conv2d(512, 512, kernel_size=(3, 3), stride=(1, 1), padding=(1, 1))\n",
       "    (20): ReLU(inplace=True)\n",
       "    (21): Conv2d(512, 512, kernel_size=(3, 3), stride=(1, 1), padding=(1, 1))\n",
       "    (22): ReLU(inplace=True)\n",
       "    (23): MaxPool2d(kernel_size=2, stride=2, padding=0, dilation=1, ceil_mode=False)\n",
       "    (24): Conv2d(512, 512, kernel_size=(3, 3), stride=(1, 1), padding=(1, 1))\n",
       "    (25): ReLU(inplace=True)\n",
       "    (26): Conv2d(512, 512, kernel_size=(3, 3), stride=(1, 1), padding=(1, 1))\n",
       "    (27): ReLU(inplace=True)\n",
       "    (28): Conv2d(512, 512, kernel_size=(3, 3), stride=(1, 1), padding=(1, 1))\n",
       "    (29): ReLU(inplace=True)\n",
       "    (30): MaxPool2d(kernel_size=2, stride=2, padding=0, dilation=1, ceil_mode=False)\n",
       "  )\n",
       "  (avgpool): AdaptiveAvgPool2d(output_size=(7, 7))\n",
       "  (classifier): Sequential(\n",
       "    (0): Linear(in_features=25088, out_features=4096, bias=True)\n",
       "    (1): ReLU(inplace=True)\n",
       "    (2): Dropout(p=0.5, inplace=False)\n",
       "    (3): Linear(in_features=4096, out_features=4096, bias=True)\n",
       "    (4): ReLU(inplace=True)\n",
       "    (5): Dropout(p=0.5, inplace=False)\n",
       "    (6): Linear(in_features=4096, out_features=1000, bias=True)\n",
       "  )\n",
       ")"
      ]
     },
     "execution_count": 64,
     "metadata": {},
     "output_type": "execute_result"
    }
   ],
   "source": [
    "model = models.vgg16() # we do not specify ``weights``, i.e. create untrained model\n",
    "model.load_state_dict(torch.load('model_weights.pth'))\n",
    "model.eval()"
   ]
  },
  {
   "cell_type": "code",
   "execution_count": 65,
   "metadata": {},
   "outputs": [],
   "source": [
    "torch.save(model, 'model.pth')\n",
    "model = torch.load('model.pth')"
   ]
  }
 ],
 "metadata": {
  "kernelspec": {
   "display_name": "Python 3",
   "language": "python",
   "name": "python3"
  },
  "language_info": {
   "codemirror_mode": {
    "name": "ipython",
    "version": 3
   },
   "file_extension": ".py",
   "mimetype": "text/x-python",
   "name": "python",
   "nbconvert_exporter": "python",
   "pygments_lexer": "ipython3",
   "version": "3.9.6"
  }
 },
 "nbformat": 4,
 "nbformat_minor": 2
}
